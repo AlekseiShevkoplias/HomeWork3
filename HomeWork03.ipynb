{
  "nbformat": 4,
  "nbformat_minor": 0,
  "metadata": {
    "colab": {
      "name": "HomeWork03.ipynb",
      "provenance": [],
      "authorship_tag": "ABX9TyPUfgh2/xdZ/idf009BENy6",
      "include_colab_link": true
    },
    "kernelspec": {
      "name": "python3",
      "display_name": "Python 3"
    }
  },
  "cells": [
    {
      "cell_type": "markdown",
      "metadata": {
        "id": "view-in-github",
        "colab_type": "text"
      },
      "source": [
        "<a href=\"https://colab.research.google.com/github/AlekseiShevkoplias/HomeWork3/blob/master/HomeWork03.ipynb\" target=\"_parent\"><img src=\"https://colab.research.google.com/assets/colab-badge.svg\" alt=\"Open In Colab\"/></a>"
      ]
    },
    {
      "cell_type": "code",
      "metadata": {
        "id": "FXVKpdWn7eKJ",
        "colab_type": "code",
        "colab": {}
      },
      "source": [
        "import matplotlib.pyplot as plt\n",
        "import numpy as np"
      ],
      "execution_count": 0,
      "outputs": []
    },
    {
      "cell_type": "code",
      "metadata": {
        "id": "H3kwYvus7sYi",
        "colab_type": "code",
        "colab": {
          "base_uri": "https://localhost:8080/",
          "height": 318
        },
        "outputId": "c6b73202-3d81-4f47-e646-d23548a72d9c"
      },
      "source": [
        "def autolabel(rects):\n",
        "    \"\"\"\n",
        "    функция для автоматического подписывания столбиков\n",
        "    \"\"\"\n",
        "    for rect in rects:\n",
        "        height = rect.get_height()\n",
        "        ax.annotate('{}'.format(height),\n",
        "                    xy=(rect.get_x() + rect.get_width() / 2, height*1.2),\n",
        "                    xytext=(0, 3),\n",
        "                    textcoords=\"offset points\",\n",
        "                    ha='center', va='bottom')\n",
        "\n",
        "# Входные данные\n",
        "N = 10\n",
        "singleMeans = (20, 35, 30, 35, 27, 25, 32, 34, 20, 25)\n",
        "dualMeans = (25, 32, 34, 20, 25, 30, 35, 27, 25, 32)\n",
        "plasmidMeans = (34, 23, 11, 38, 23, 34, 23, 11, 38, 23)\n",
        "singleStd = (2, 3, 4, 1, 2, 5, 5, 2, 3, 3)\n",
        "dualStd = (3, 5, 2, 3, 3, 3, 6, 1, 2, 1)\n",
        "plasmidStd = (3, 3, 4, 3, 2, 2, 3, 1, 2, 2)\n",
        "\n",
        "# Переменные для барплота\n",
        "ind = np.arange(N)\n",
        "width = 0.8\n",
        "x = np.arange(N)\n",
        "\n",
        "# Инициализация рисунка\n",
        "fig, ax = plt.subplots()\n",
        "\n",
        "# Задаём столбцы (3 категории)\n",
        "rects1 = ax.bar(x - width/3,\n",
        "                singleMeans,\n",
        "                width/3,\n",
        "                label='single',\n",
        "                yerr=singleStd,\n",
        "                capsize=3)\n",
        "rects2 = ax.bar(x,\n",
        "                dualMeans,\n",
        "                width/3,\n",
        "                label='dual',\n",
        "                yerr=dualStd,\n",
        "                capsize=3)\n",
        "rects3 = ax.bar(x + width/3,\n",
        "                plasmidMeans,\n",
        "                width/3,\n",
        "                label='dual',\n",
        "                yerr=plasmidStd,\n",
        "                capsize=3)\n",
        "\n",
        "# Подпись оси y\n",
        "plt.ylabel('GFP band intensity')\n",
        "\n",
        "# Два ряда подписей оси x\n",
        "ax.set_xticks(ind)\n",
        "ax.set_xticklabels(['G1', 'G2', 'G3', 'G4', 'G5',\n",
        "                    'G6', 'G7', 'G8', 'G9', 'G10'])\n",
        "ax.set_xlabel('Compound')\n",
        "plt.yticks(np.arange(0, 81, 10))\n",
        "plt.legend((rects1[0], rects2[0], rects3[0]), ('single', 'dual', 'plasmid'))\n",
        "ax2 = ax.twiny()\n",
        "ax2.set_xticks(ind)\n",
        "ax2.set_xticklabels(['1 μM', '2 μM', '3 μM', '4 μM', '5 μM',\n",
        "                     '6 μM', '7 μM', '8 μM', '9 μM', '10 μM'])\n",
        "ax2.xaxis.set_ticks_position('bottom')\n",
        "ax2.xaxis.set_label_position('bottom')\n",
        "ax2.spines['bottom'].set_position(('outward', 36))\n",
        "ax2.set_xlabel('Concentration')\n",
        "ax2.set_xlim(ax.get_xlim())\n",
        "\n",
        "# Подписываем столбики\n",
        "autolabel(rects1)\n",
        "autolabel(rects2)\n",
        "autolabel(rects3)\n",
        "\n",
        "# Показать картинку\n",
        "plt.show()"
      ],
      "execution_count": 70,
      "outputs": [
        {
          "output_type": "display_data",
          "data": {
            "image/png": "[encoded data removed]",
            "text/plain": [
              "<Figure size 432x288 with 2 Axes>"
            ]
          },
          "metadata": {
            "tags": [],
            "needs_background": "light"
          }
        }
      ]
    }
  ]
}